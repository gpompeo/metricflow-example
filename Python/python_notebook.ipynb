{
 "cells": [
  {
   "cell_type": "markdown",
   "metadata": {},
   "source": [
    "# Using MetricFlow in Python"
   ]
  },
  {
   "cell_type": "markdown",
   "metadata": {},
   "source": [
    "This notebook shows how to use the MetricFlow Python API in a Jupyter notebook environment to query metrics and dimensions. \n",
    "\n",
    "Full documentation for the MetricFlow Python client can be found [here](https://github.com/transform-data/metricflow/blob/main/metricflow/api/metricflow_client.py)"
   ]
  },
  {
   "cell_type": "markdown",
   "metadata": {},
   "source": [
    "Import Packages"
   ]
  },
  {
   "cell_type": "code",
   "execution_count": 1,
   "metadata": {},
   "outputs": [],
   "source": [
    "from metricflow import MetricFlowClient\n",
    "import pandas as pd\n",
    "import matplotlib.pyplot as plt"
   ]
  },
  {
   "cell_type": "markdown",
   "metadata": {},
   "source": [
    "Set up MetricFlow client from config file. This file is generated when you run mf setup."
   ]
  },
  {
   "cell_type": "code",
   "execution_count": 2,
   "metadata": {},
   "outputs": [],
   "source": [
    "mf = MetricFlowClient.from_config(config_file_path=\"C:/Users/pompe/.metricflow/config.yml\")"
   ]
  },
  {
   "cell_type": "markdown",
   "metadata": {},
   "source": [
    "You can list metrics using the command line."
   ]
  },
  {
   "cell_type": "code",
   "execution_count": 3,
   "metadata": {},
   "outputs": [
    {
     "name": "stdout",
     "output_type": "stream",
     "text": [
      "\n",
      "\n",
      "- 🔍 Looking for all available metrics...\n",
      "\n",
      "\\ 🔍 Looking for all available metrics...\n",
      "v 🌱 We've found 13 metrics.\n",
      "The list below shows metrics in the format of \"metric_name: list of available dimensions\"\n",
      "• cancellations: customer__country__region, customer__ds, ds, is_large, quick_buy_transaction\n",
      "• cancellation_rate: customer__country__region, customer__ds, ds, is_large, quick_buy_transaction\n",
      "• revenue_usd: customer__country__region, customer__ds, ds, is_large, quick_buy_transaction\n",
      "• cancellations_mx: customer__country__region, customer__ds, ds, is_large, quick_buy_transaction\n",
      "• transaction_usd_na: customer__country__region, customer__ds, ds, is_large, quick_buy_transaction\n",
      "• transaction_usd_l7d_mx: customer__country__region, customer__ds, ds, is_large, quick_buy_transaction\n",
      "• transaction_usd_mtd: customer__country__region, customer__ds, ds, is_large, quick_buy_transaction\n",
      "• transaction_usd_na_l7d: customer__country__region, customer__ds, ds, is_large, quick_buy_transaction\n",
      "• new_customers: country__region, ds\n",
      "• transaction_amount_usd: customer__country__region, customer__ds, ds, is_large, quick_buy_transaction\n",
      "• transactions: customer__country__region, customer__ds, ds, is_large, quick_buy_transaction\n",
      "• quick_buy_amount_usd: customer__country__region, customer__ds, ds, is_large, quick_buy_transaction\n",
      "• quick_buy_transactions: customer__country__region, customer__ds, ds, is_large, quick_buy_transaction\n",
      "\n"
     ]
    }
   ],
   "source": [
    "!mf list-metrics"
   ]
  },
  {
   "cell_type": "markdown",
   "metadata": {},
   "source": [
    "You can also list metrics with the list_metrics method."
   ]
  },
  {
   "cell_type": "code",
   "execution_count": 4,
   "metadata": {},
   "outputs": [
    {
     "data": {
      "text/plain": [
       "dict_keys(['cancellations', 'cancellation_rate', 'revenue_usd', 'cancellations_mx', 'transaction_usd_na', 'transaction_usd_l7d_mx', 'transaction_usd_mtd', 'transaction_usd_na_l7d', 'new_customers', 'transaction_amount_usd', 'transactions', 'quick_buy_amount_usd', 'quick_buy_transactions'])"
      ]
     },
     "execution_count": 4,
     "metadata": {},
     "output_type": "execute_result"
    }
   ],
   "source": [
    "mf.list_metrics().keys()"
   ]
  },
  {
   "cell_type": "markdown",
   "metadata": {},
   "source": [
    "You can see all available dimensions for a given metric or metrics using the list_dimensions method."
   ]
  },
  {
   "cell_type": "code",
   "execution_count": 5,
   "metadata": {},
   "outputs": [
    {
     "data": {
      "text/plain": [
       "[Dimension(name='customer__country__region'),\n",
       " Dimension(name='customer__ds'),\n",
       " Dimension(name='ds'),\n",
       " Dimension(name='is_large'),\n",
       " Dimension(name='quick_buy_transaction')]"
      ]
     },
     "execution_count": 5,
     "metadata": {},
     "output_type": "execute_result"
    }
   ],
   "source": [
    "mf.list_dimensions(metric_names=[\"revenue_usd\"])"
   ]
  },
  {
   "cell_type": "markdown",
   "metadata": {},
   "source": [
    "You can store the results of the query in a Pandas dataframe using the query method and result_df attribute."
   ]
  },
  {
   "cell_type": "code",
   "execution_count": 6,
   "metadata": {},
   "outputs": [],
   "source": [
    "query_results = mf.query(metrics=[\"revenue_usd\"], dimensions=[\"ds\"])\n"
   ]
  },
  {
   "cell_type": "code",
   "execution_count": 7,
   "metadata": {},
   "outputs": [
    {
     "data": {
      "text/html": [
       "<div>\n",
       "<style scoped>\n",
       "    .dataframe tbody tr th:only-of-type {\n",
       "        vertical-align: middle;\n",
       "    }\n",
       "\n",
       "    .dataframe tbody tr th {\n",
       "        vertical-align: top;\n",
       "    }\n",
       "\n",
       "    .dataframe thead th {\n",
       "        text-align: right;\n",
       "    }\n",
       "</style>\n",
       "<table border=\"1\" class=\"dataframe\">\n",
       "  <thead>\n",
       "    <tr style=\"text-align: right;\">\n",
       "      <th></th>\n",
       "      <th>ds</th>\n",
       "      <th>revenue_usd</th>\n",
       "    </tr>\n",
       "  </thead>\n",
       "  <tbody>\n",
       "    <tr>\n",
       "      <th>23</th>\n",
       "      <td>2022-03-07</td>\n",
       "      <td>488.01</td>\n",
       "    </tr>\n",
       "    <tr>\n",
       "      <th>16</th>\n",
       "      <td>2022-03-08</td>\n",
       "      <td>577.00</td>\n",
       "    </tr>\n",
       "    <tr>\n",
       "      <th>15</th>\n",
       "      <td>2022-03-09</td>\n",
       "      <td>7.66</td>\n",
       "    </tr>\n",
       "    <tr>\n",
       "      <th>0</th>\n",
       "      <td>2022-03-10</td>\n",
       "      <td>79.88</td>\n",
       "    </tr>\n",
       "    <tr>\n",
       "      <th>24</th>\n",
       "      <td>2022-03-11</td>\n",
       "      <td>0.00</td>\n",
       "    </tr>\n",
       "  </tbody>\n",
       "</table>\n",
       "</div>"
      ],
      "text/plain": [
       "           ds  revenue_usd\n",
       "23 2022-03-07       488.01\n",
       "16 2022-03-08       577.00\n",
       "15 2022-03-09         7.66\n",
       "0  2022-03-10        79.88\n",
       "24 2022-03-11         0.00"
      ]
     },
     "execution_count": 7,
     "metadata": {},
     "output_type": "execute_result"
    }
   ],
   "source": [
    "df = query_results.result_df.sort_values(\"ds\", ascending=True)\n",
    "df.head()"
   ]
  },
  {
   "cell_type": "code",
   "execution_count": 8,
   "metadata": {},
   "outputs": [
    {
     "data": {
      "image/png": "[encoded data removed]",
      "text/plain": [
       "<Figure size 1600x400 with 1 Axes>"
      ]
     },
     "metadata": {},
     "output_type": "display_data"
    }
   ],
   "source": [
    "plt.figure(figsize=(16, 4))\n",
    "plt.xlabel(\"Date\")\n",
    "plt.ylabel(\"Revenue ($)\")\n",
    "plt.plot(df.ds, df.revenue_usd)\n",
    "plt.show()"
   ]
  },
  {
   "cell_type": "code",
   "execution_count": 15,
   "metadata": {},
   "outputs": [
    {
     "name": "stderr",
     "output_type": "stream",
     "text": [
      "A start time has not be supplied while querying for cumulative metrics. To avoid an excessive number of rows, the start time will be changed to 2021-11-10T23:28:12.667098\n",
      "A end time has not be supplied while querying for cumulative metrics. To avoid an excessive number of rows, the end time will be changed to 2022-11-10T23:28:12.668607\n",
      "Query spec updated to:\n",
      "{'class': 'MetricFlowQuerySpec',\n",
      " 'metric_specs': ({'class': 'MetricSpec',\n",
      "                   'element_name': 'transaction_usd_mtd'},),\n",
      " 'dimension_specs': (),\n",
      " 'identifier_specs': (),\n",
      " 'time_dimension_specs': ({'class': 'TimeDimensionSpec',\n",
      "                           'element_name': 'metric_time',\n",
      "                           'identifier_links': (),\n",
      "                           'time_granularity': TimeGranularity.DAY},),\n",
      " 'order_by_specs': ({'class': 'OrderBySpec',\n",
      "                     'descending': False,\n",
      "                     'metric_spec': None,\n",
      "                     'dimension_spec': None,\n",
      "                     'time_dimension_spec': {'class': 'TimeDimensionSpec',\n",
      "                                             'element_name': 'metric_time',\n",
      "                                             'identifier_links': (),\n",
      "                                             'time_granularity': TimeGranularity.DAY},\n",
      "                     'identifier_spec': None},),\n",
      " 'output_column_name_overrides': ({'class': 'OutputColumnNameOverride',\n",
      "                                   'time_dimension_spec': {'class': 'TimeDimensionSpec',\n",
      "                                                           'element_name': 'metric_time',\n",
      "                                                           'identifier_links': (),\n",
      "                                                           'time_granularity': TimeGranularity.DAY},\n",
      "                                   'output_column_name': 'metric_time'},),\n",
      " 'time_range_constraint': None,\n",
      " 'where_constraint': None,\n",
      " 'limit': None}\n"
     ]
    }
   ],
   "source": [
    "query_results = mf.query(metrics=[\"transaction_usd_mtd\"], dimensions=[\"metric_time\"], order=[\"metric_time\"])"
   ]
  },
  {
   "cell_type": "code",
   "execution_count": 16,
   "metadata": {},
   "outputs": [
    {
     "data": {
      "text/html": [
       "<div>\n",
       "<style scoped>\n",
       "    .dataframe tbody tr th:only-of-type {\n",
       "        vertical-align: middle;\n",
       "    }\n",
       "\n",
       "    .dataframe tbody tr th {\n",
       "        vertical-align: top;\n",
       "    }\n",
       "\n",
       "    .dataframe thead th {\n",
       "        text-align: right;\n",
       "    }\n",
       "</style>\n",
       "<table border=\"1\" class=\"dataframe\">\n",
       "  <thead>\n",
       "    <tr style=\"text-align: right;\">\n",
       "      <th></th>\n",
       "      <th>metric_time</th>\n",
       "      <th>transaction_usd_mtd</th>\n",
       "    </tr>\n",
       "  </thead>\n",
       "  <tbody>\n",
       "    <tr>\n",
       "      <th>0</th>\n",
       "      <td>2022-03-07</td>\n",
       "      <td>488.01</td>\n",
       "    </tr>\n",
       "    <tr>\n",
       "      <th>1</th>\n",
       "      <td>2022-03-08</td>\n",
       "      <td>1065.01</td>\n",
       "    </tr>\n",
       "    <tr>\n",
       "      <th>2</th>\n",
       "      <td>2022-03-09</td>\n",
       "      <td>1072.67</td>\n",
       "    </tr>\n",
       "    <tr>\n",
       "      <th>3</th>\n",
       "      <td>2022-03-10</td>\n",
       "      <td>1244.10</td>\n",
       "    </tr>\n",
       "    <tr>\n",
       "      <th>4</th>\n",
       "      <td>2022-03-11</td>\n",
       "      <td>1452.47</td>\n",
       "    </tr>\n",
       "    <tr>\n",
       "      <th>5</th>\n",
       "      <td>2022-03-12</td>\n",
       "      <td>1583.28</td>\n",
       "    </tr>\n",
       "    <tr>\n",
       "      <th>6</th>\n",
       "      <td>2022-03-13</td>\n",
       "      <td>1670.70</td>\n",
       "    </tr>\n",
       "    <tr>\n",
       "      <th>7</th>\n",
       "      <td>2022-03-14</td>\n",
       "      <td>1850.04</td>\n",
       "    </tr>\n",
       "    <tr>\n",
       "      <th>8</th>\n",
       "      <td>2022-03-15</td>\n",
       "      <td>2616.38</td>\n",
       "    </tr>\n",
       "    <tr>\n",
       "      <th>9</th>\n",
       "      <td>2022-03-16</td>\n",
       "      <td>3186.27</td>\n",
       "    </tr>\n",
       "    <tr>\n",
       "      <th>10</th>\n",
       "      <td>2022-03-17</td>\n",
       "      <td>3647.10</td>\n",
       "    </tr>\n",
       "    <tr>\n",
       "      <th>11</th>\n",
       "      <td>2022-03-18</td>\n",
       "      <td>3872.96</td>\n",
       "    </tr>\n",
       "    <tr>\n",
       "      <th>12</th>\n",
       "      <td>2022-03-19</td>\n",
       "      <td>3872.96</td>\n",
       "    </tr>\n",
       "    <tr>\n",
       "      <th>13</th>\n",
       "      <td>2022-03-20</td>\n",
       "      <td>3872.96</td>\n",
       "    </tr>\n",
       "    <tr>\n",
       "      <th>14</th>\n",
       "      <td>2022-03-21</td>\n",
       "      <td>4771.55</td>\n",
       "    </tr>\n",
       "    <tr>\n",
       "      <th>15</th>\n",
       "      <td>2022-03-22</td>\n",
       "      <td>5615.26</td>\n",
       "    </tr>\n",
       "    <tr>\n",
       "      <th>16</th>\n",
       "      <td>2022-03-23</td>\n",
       "      <td>5871.22</td>\n",
       "    </tr>\n",
       "    <tr>\n",
       "      <th>17</th>\n",
       "      <td>2022-03-24</td>\n",
       "      <td>5871.22</td>\n",
       "    </tr>\n",
       "    <tr>\n",
       "      <th>18</th>\n",
       "      <td>2022-03-25</td>\n",
       "      <td>6623.65</td>\n",
       "    </tr>\n",
       "    <tr>\n",
       "      <th>19</th>\n",
       "      <td>2022-03-26</td>\n",
       "      <td>7172.21</td>\n",
       "    </tr>\n",
       "    <tr>\n",
       "      <th>20</th>\n",
       "      <td>2022-03-27</td>\n",
       "      <td>7489.19</td>\n",
       "    </tr>\n",
       "    <tr>\n",
       "      <th>21</th>\n",
       "      <td>2022-03-28</td>\n",
       "      <td>7756.09</td>\n",
       "    </tr>\n",
       "    <tr>\n",
       "      <th>22</th>\n",
       "      <td>2022-03-29</td>\n",
       "      <td>8542.14</td>\n",
       "    </tr>\n",
       "    <tr>\n",
       "      <th>23</th>\n",
       "      <td>2022-03-30</td>\n",
       "      <td>9076.39</td>\n",
       "    </tr>\n",
       "    <tr>\n",
       "      <th>24</th>\n",
       "      <td>2022-03-31</td>\n",
       "      <td>10247.35</td>\n",
       "    </tr>\n",
       "    <tr>\n",
       "      <th>25</th>\n",
       "      <td>2022-04-01</td>\n",
       "      <td>100.40</td>\n",
       "    </tr>\n",
       "    <tr>\n",
       "      <th>26</th>\n",
       "      <td>2022-04-02</td>\n",
       "      <td>670.39</td>\n",
       "    </tr>\n",
       "    <tr>\n",
       "      <th>27</th>\n",
       "      <td>2022-04-03</td>\n",
       "      <td>1024.20</td>\n",
       "    </tr>\n",
       "    <tr>\n",
       "      <th>28</th>\n",
       "      <td>2022-04-04</td>\n",
       "      <td>1469.09</td>\n",
       "    </tr>\n",
       "    <tr>\n",
       "      <th>29</th>\n",
       "      <td>2022-04-05</td>\n",
       "      <td>1469.09</td>\n",
       "    </tr>\n",
       "    <tr>\n",
       "      <th>30</th>\n",
       "      <td>2022-04-06</td>\n",
       "      <td>1469.09</td>\n",
       "    </tr>\n",
       "    <tr>\n",
       "      <th>31</th>\n",
       "      <td>2022-04-07</td>\n",
       "      <td>1469.09</td>\n",
       "    </tr>\n",
       "    <tr>\n",
       "      <th>32</th>\n",
       "      <td>2022-04-08</td>\n",
       "      <td>1469.09</td>\n",
       "    </tr>\n",
       "    <tr>\n",
       "      <th>33</th>\n",
       "      <td>2022-04-09</td>\n",
       "      <td>1469.09</td>\n",
       "    </tr>\n",
       "    <tr>\n",
       "      <th>34</th>\n",
       "      <td>2022-04-10</td>\n",
       "      <td>1469.09</td>\n",
       "    </tr>\n",
       "    <tr>\n",
       "      <th>35</th>\n",
       "      <td>2022-04-11</td>\n",
       "      <td>1469.09</td>\n",
       "    </tr>\n",
       "    <tr>\n",
       "      <th>36</th>\n",
       "      <td>2022-04-12</td>\n",
       "      <td>1469.09</td>\n",
       "    </tr>\n",
       "    <tr>\n",
       "      <th>37</th>\n",
       "      <td>2022-04-13</td>\n",
       "      <td>1469.09</td>\n",
       "    </tr>\n",
       "    <tr>\n",
       "      <th>38</th>\n",
       "      <td>2022-04-14</td>\n",
       "      <td>1469.09</td>\n",
       "    </tr>\n",
       "    <tr>\n",
       "      <th>39</th>\n",
       "      <td>2022-04-15</td>\n",
       "      <td>1469.09</td>\n",
       "    </tr>\n",
       "    <tr>\n",
       "      <th>40</th>\n",
       "      <td>2022-04-16</td>\n",
       "      <td>1469.09</td>\n",
       "    </tr>\n",
       "    <tr>\n",
       "      <th>41</th>\n",
       "      <td>2022-04-17</td>\n",
       "      <td>1469.09</td>\n",
       "    </tr>\n",
       "    <tr>\n",
       "      <th>42</th>\n",
       "      <td>2022-04-18</td>\n",
       "      <td>1469.09</td>\n",
       "    </tr>\n",
       "    <tr>\n",
       "      <th>43</th>\n",
       "      <td>2022-04-19</td>\n",
       "      <td>1469.09</td>\n",
       "    </tr>\n",
       "    <tr>\n",
       "      <th>44</th>\n",
       "      <td>2022-04-20</td>\n",
       "      <td>1469.09</td>\n",
       "    </tr>\n",
       "    <tr>\n",
       "      <th>45</th>\n",
       "      <td>2022-04-21</td>\n",
       "      <td>1469.09</td>\n",
       "    </tr>\n",
       "    <tr>\n",
       "      <th>46</th>\n",
       "      <td>2022-04-22</td>\n",
       "      <td>1469.09</td>\n",
       "    </tr>\n",
       "    <tr>\n",
       "      <th>47</th>\n",
       "      <td>2022-04-23</td>\n",
       "      <td>1469.09</td>\n",
       "    </tr>\n",
       "    <tr>\n",
       "      <th>48</th>\n",
       "      <td>2022-04-24</td>\n",
       "      <td>1469.09</td>\n",
       "    </tr>\n",
       "    <tr>\n",
       "      <th>49</th>\n",
       "      <td>2022-04-25</td>\n",
       "      <td>1469.09</td>\n",
       "    </tr>\n",
       "    <tr>\n",
       "      <th>50</th>\n",
       "      <td>2022-04-26</td>\n",
       "      <td>1469.09</td>\n",
       "    </tr>\n",
       "    <tr>\n",
       "      <th>51</th>\n",
       "      <td>2022-04-27</td>\n",
       "      <td>1469.09</td>\n",
       "    </tr>\n",
       "    <tr>\n",
       "      <th>52</th>\n",
       "      <td>2022-04-28</td>\n",
       "      <td>1469.09</td>\n",
       "    </tr>\n",
       "    <tr>\n",
       "      <th>53</th>\n",
       "      <td>2022-04-29</td>\n",
       "      <td>1469.09</td>\n",
       "    </tr>\n",
       "    <tr>\n",
       "      <th>54</th>\n",
       "      <td>2022-04-30</td>\n",
       "      <td>1469.09</td>\n",
       "    </tr>\n",
       "  </tbody>\n",
       "</table>\n",
       "</div>"
      ],
      "text/plain": [
       "   metric_time  transaction_usd_mtd\n",
       "0   2022-03-07               488.01\n",
       "1   2022-03-08              1065.01\n",
       "2   2022-03-09              1072.67\n",
       "3   2022-03-10              1244.10\n",
       "4   2022-03-11              1452.47\n",
       "5   2022-03-12              1583.28\n",
       "6   2022-03-13              1670.70\n",
       "7   2022-03-14              1850.04\n",
       "8   2022-03-15              2616.38\n",
       "9   2022-03-16              3186.27\n",
       "10  2022-03-17              3647.10\n",
       "11  2022-03-18              3872.96\n",
       "12  2022-03-19              3872.96\n",
       "13  2022-03-20              3872.96\n",
       "14  2022-03-21              4771.55\n",
       "15  2022-03-22              5615.26\n",
       "16  2022-03-23              5871.22\n",
       "17  2022-03-24              5871.22\n",
       "18  2022-03-25              6623.65\n",
       "19  2022-03-26              7172.21\n",
       "20  2022-03-27              7489.19\n",
       "21  2022-03-28              7756.09\n",
       "22  2022-03-29              8542.14\n",
       "23  2022-03-30              9076.39\n",
       "24  2022-03-31             10247.35\n",
       "25  2022-04-01               100.40\n",
       "26  2022-04-02               670.39\n",
       "27  2022-04-03              1024.20\n",
       "28  2022-04-04              1469.09\n",
       "29  2022-04-05              1469.09\n",
       "30  2022-04-06              1469.09\n",
       "31  2022-04-07              1469.09\n",
       "32  2022-04-08              1469.09\n",
       "33  2022-04-09              1469.09\n",
       "34  2022-04-10              1469.09\n",
       "35  2022-04-11              1469.09\n",
       "36  2022-04-12              1469.09\n",
       "37  2022-04-13              1469.09\n",
       "38  2022-04-14              1469.09\n",
       "39  2022-04-15              1469.09\n",
       "40  2022-04-16              1469.09\n",
       "41  2022-04-17              1469.09\n",
       "42  2022-04-18              1469.09\n",
       "43  2022-04-19              1469.09\n",
       "44  2022-04-20              1469.09\n",
       "45  2022-04-21              1469.09\n",
       "46  2022-04-22              1469.09\n",
       "47  2022-04-23              1469.09\n",
       "48  2022-04-24              1469.09\n",
       "49  2022-04-25              1469.09\n",
       "50  2022-04-26              1469.09\n",
       "51  2022-04-27              1469.09\n",
       "52  2022-04-28              1469.09\n",
       "53  2022-04-29              1469.09\n",
       "54  2022-04-30              1469.09"
      ]
     },
     "execution_count": 16,
     "metadata": {},
     "output_type": "execute_result"
    }
   ],
   "source": [
    "df = query_results.result_df\n",
    "df"
   ]
  },
  {
   "cell_type": "code",
   "execution_count": 17,
   "metadata": {},
   "outputs": [
    {
     "data": {
      "image/png": "[encoded data removed]",
      "text/plain": [
       "<Figure size 1600x400 with 1 Axes>"
      ]
     },
     "metadata": {},
     "output_type": "display_data"
    }
   ],
   "source": [
    "plt.figure(figsize=(16, 4))\n",
    "plt.xlabel(\"Date\")\n",
    "plt.ylabel(\"Transactions USD MTD ($)\")\n",
    "plt.plot(df.metric_time, df.transaction_usd_mtd)\n",
    "plt.show()"
   ]
  },
  {
   "cell_type": "code",
   "execution_count": null,
   "metadata": {},
   "outputs": [],
   "source": []
  }
 ],
 "metadata": {
  "kernelspec": {
   "display_name": "Python 3.9.13 ('mf_env')",
   "language": "python",
   "name": "python3"
  },
  "language_info": {
   "codemirror_mode": {
    "name": "ipython",
    "version": 3
   },
   "file_extension": ".py",
   "mimetype": "text/x-python",
   "name": "python",
   "nbconvert_exporter": "python",
   "pygments_lexer": "ipython3",
   "version": "3.9.13"
  },
  "orig_nbformat": 4,
  "vscode": {
   "interpreter": {
    "hash": "585281f1c3bd844d7d2c4535cbad905ad1efee1cbd9426fbcc3c12e9517c911b"
   }
  }
 },
 "nbformat": 4,
 "nbformat_minor": 2
}
